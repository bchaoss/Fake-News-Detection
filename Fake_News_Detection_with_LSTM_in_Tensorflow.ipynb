{
  "nbformat": 4,
  "nbformat_minor": 0,
  "metadata": {
    "colab": {
      "provenance": [],
      "gpuType": "T4",
      "authorship_tag": "ABX9TyML2QdI9raGTULKqQ6iJjgA",
      "include_colab_link": true
    },
    "kernelspec": {
      "name": "python3",
      "display_name": "Python 3"
    },
    "language_info": {
      "name": "python"
    },
    "accelerator": "GPU"
  },
  "cells": [
    {
      "cell_type": "markdown",
      "metadata": {
        "id": "view-in-github",
        "colab_type": "text"
      },
      "source": [
        "<a href=\"https://colab.research.google.com/github/bchaoss/Fake-News-Detection/blob/main/Fake_News_Detection_with_LSTM_in_Tensorflow.ipynb\" target=\"_parent\"><img src=\"https://colab.research.google.com/assets/colab-badge.svg\" alt=\"Open In Colab\"/></a>"
      ]
    },
    {
      "cell_type": "markdown",
      "source": [
        "## Fake News Detection with LSTM Model in Tensorflow2.x"
      ],
      "metadata": {
        "id": "0qSQQTx4JLHx"
      }
    },
    {
      "cell_type": "markdown",
      "source": [
        "This notebook mainly focuses on building an LSTM model for fake news detection. It is modified from this great work (https://github.com/matdekoning/FakeNewsClassifier). The model utilizes a dataset available on Kaggle, which can be downloaded from this link: https://www.kaggle.com/c/fake-news/data.\n",
        "\n",
        "In this work, we leverages the LSTM model to classify news articles and determine their authenticity. LSTM (Long Short-Term Memory) is a type of recurrent neural network that can capture contextual information in text, aiding in better understanding the content and semantics of news articles. By training on a large dataset of real and fake news, the model learns key features to classify new articles."
      ],
      "metadata": {
        "id": "SnbmYfaFHc8_"
      }
    },
    {
      "cell_type": "markdown",
      "source": [
        "### Install data from kaggle"
      ],
      "metadata": {
        "id": "n5UHnYlsJZA_"
      }
    },
    {
      "cell_type": "code",
      "source": [
        "!kaggle competitions download -c fake-news\n",
        "!kaggle datasets download -d danielwillgeorge/glove6b100dtxt\n",
        "\n",
        "!unzip /content/competitions/fake-news/fake-news.zip\n",
        "!unzip /content/datasets/danielwillgeorge/glove6b100dtxt/glove6b100dtxt.zip"
      ],
      "metadata": {
        "colab": {
          "base_uri": "https://localhost:8080/"
        },
        "id": "rLCvC-BlCEcJ",
        "outputId": "2f37c482-7513-41aa-e031-230c20d34012"
      },
      "execution_count": 11,
      "outputs": [
        {
          "output_type": "stream",
          "name": "stdout",
          "text": [
            "Downloading fake-news.zip to /content/competitions/fake-news\n",
            " 95% 44.0M/46.5M [00:00<00:00, 93.5MB/s]\n",
            "100% 46.5M/46.5M [00:00<00:00, 80.1MB/s]\n",
            "Downloading glove6b100dtxt.zip to /content/datasets/danielwillgeorge/glove6b100dtxt\n",
            "100% 131M/131M [00:02<00:00, 81.1MB/s]\n",
            "100% 131M/131M [00:02<00:00, 62.3MB/s]\n",
            "Archive:  /content/competitions/fake-news/fake-news.zip\n",
            "  inflating: submit.csv              \n",
            "  inflating: test.csv                \n",
            "  inflating: train.csv               \n",
            "Archive:  /content/datasets/danielwillgeorge/glove6b100dtxt/glove6b100dtxt.zip\n",
            "  inflating: glove.6B.100d.txt       \n"
          ]
        }
      ]
    },
    {
      "cell_type": "code",
      "source": [
        "import numpy as np\n",
        "import pandas as pd\n",
        "import matplotlib.pyplot as plt\n",
        "import matplotlib.ticker as ticker\n",
        "import os\n",
        "\n",
        "import tensorflow as tf\n",
        "from tensorflow.keras import layers\n",
        "from tensorflow.keras.layers import Embedding, LSTM, Dense, Dropout, SimpleRNN\n",
        "from tensorflow.keras.models import Sequential\n",
        "from sklearn.model_selection import train_test_split\n",
        "\n",
        "from tensorflow.keras.preprocessing.text import Tokenizer\n",
        "from tensorflow.keras.preprocessing.sequence import pad_sequences"
      ],
      "metadata": {
        "id": "nJ6mPPzqBi5O"
      },
      "execution_count": 12,
      "outputs": []
    },
    {
      "cell_type": "markdown",
      "source": [
        "### Prepare the Data"
      ],
      "metadata": {
        "id": "imTTY4TgJun3"
      }
    },
    {
      "cell_type": "code",
      "source": [
        "# choose a availble GPU device\n",
        "physical_devices = tf.config.list_physical_devices('GPU')\n",
        "tf.config.experimental.set_memory_growth(physical_devices[0], True)"
      ],
      "metadata": {
        "id": "X3wrAbytBn37"
      },
      "execution_count": 13,
      "outputs": []
    },
    {
      "cell_type": "code",
      "source": [
        "# read the train/test data\n",
        "train_df = pd.read_csv('/content/train.csv')\n",
        "test_df = pd.read_csv('/content/test.csv')\n",
        "datasets = [train_df, test_df]"
      ],
      "metadata": {
        "id": "QbzsfCIQBqB-"
      },
      "execution_count": 14,
      "outputs": []
    },
    {
      "cell_type": "code",
      "source": [
        "train_df.head()"
      ],
      "metadata": {
        "colab": {
          "base_uri": "https://localhost:8080/",
          "height": 293
        },
        "id": "Gcm0mOi7C0NI",
        "outputId": "fe890fb1-3662-4d88-ff8a-507a9c6192c4"
      },
      "execution_count": 41,
      "outputs": [
        {
          "output_type": "execute_result",
          "data": {
            "text/plain": [
              "   id                                              title              author  \\\n",
              "0   0  House Dem Aide: We Didn’t Even See Comey’s Let...       Darrell Lucus   \n",
              "1   1  FLYNN: Hillary Clinton, Big Woman on Campus - ...     Daniel J. Flynn   \n",
              "2   2                  Why the Truth Might Get You Fired  Consortiumnews.com   \n",
              "3   3  15 Civilians Killed In Single US Airstrike Hav...     Jessica Purkiss   \n",
              "4   4  Iranian woman jailed for fictional unpublished...      Howard Portnoy   \n",
              "\n",
              "                                                text  label  \\\n",
              "0  House Dem Aide: We Didn’t Even See Comey’s Let...      1   \n",
              "1  Ever get the feeling your life circles the rou...      0   \n",
              "2  Why the Truth Might Get You Fired October 29, ...      1   \n",
              "3  Videos 15 Civilians Killed In Single US Airstr...      1   \n",
              "4  Print \\nAn Iranian woman has been sentenced to...      1   \n",
              "\n",
              "                                          clean_news  \n",
              "0  house dem aide didnt even see comeys letter ja...  \n",
              "1  flynn hillary clinton big woman campus breitba...  \n",
              "2  truth might get fired truth might get fired oc...  \n",
              "3  15 civilians killed single us airstrike identi...  \n",
              "4  iranian woman jailed fictional unpublished sto...  "
            ],
            "text/html": [
              "\n",
              "  <div id=\"df-166a2fa0-a1c0-4b2c-81f0-1562ca8ea6b1\" class=\"colab-df-container\">\n",
              "    <div>\n",
              "<style scoped>\n",
              "    .dataframe tbody tr th:only-of-type {\n",
              "        vertical-align: middle;\n",
              "    }\n",
              "\n",
              "    .dataframe tbody tr th {\n",
              "        vertical-align: top;\n",
              "    }\n",
              "\n",
              "    .dataframe thead th {\n",
              "        text-align: right;\n",
              "    }\n",
              "</style>\n",
              "<table border=\"1\" class=\"dataframe\">\n",
              "  <thead>\n",
              "    <tr style=\"text-align: right;\">\n",
              "      <th></th>\n",
              "      <th>id</th>\n",
              "      <th>title</th>\n",
              "      <th>author</th>\n",
              "      <th>text</th>\n",
              "      <th>label</th>\n",
              "      <th>clean_news</th>\n",
              "    </tr>\n",
              "  </thead>\n",
              "  <tbody>\n",
              "    <tr>\n",
              "      <th>0</th>\n",
              "      <td>0</td>\n",
              "      <td>House Dem Aide: We Didn’t Even See Comey’s Let...</td>\n",
              "      <td>Darrell Lucus</td>\n",
              "      <td>House Dem Aide: We Didn’t Even See Comey’s Let...</td>\n",
              "      <td>1</td>\n",
              "      <td>house dem aide didnt even see comeys letter ja...</td>\n",
              "    </tr>\n",
              "    <tr>\n",
              "      <th>1</th>\n",
              "      <td>1</td>\n",
              "      <td>FLYNN: Hillary Clinton, Big Woman on Campus - ...</td>\n",
              "      <td>Daniel J. Flynn</td>\n",
              "      <td>Ever get the feeling your life circles the rou...</td>\n",
              "      <td>0</td>\n",
              "      <td>flynn hillary clinton big woman campus breitba...</td>\n",
              "    </tr>\n",
              "    <tr>\n",
              "      <th>2</th>\n",
              "      <td>2</td>\n",
              "      <td>Why the Truth Might Get You Fired</td>\n",
              "      <td>Consortiumnews.com</td>\n",
              "      <td>Why the Truth Might Get You Fired October 29, ...</td>\n",
              "      <td>1</td>\n",
              "      <td>truth might get fired truth might get fired oc...</td>\n",
              "    </tr>\n",
              "    <tr>\n",
              "      <th>3</th>\n",
              "      <td>3</td>\n",
              "      <td>15 Civilians Killed In Single US Airstrike Hav...</td>\n",
              "      <td>Jessica Purkiss</td>\n",
              "      <td>Videos 15 Civilians Killed In Single US Airstr...</td>\n",
              "      <td>1</td>\n",
              "      <td>15 civilians killed single us airstrike identi...</td>\n",
              "    </tr>\n",
              "    <tr>\n",
              "      <th>4</th>\n",
              "      <td>4</td>\n",
              "      <td>Iranian woman jailed for fictional unpublished...</td>\n",
              "      <td>Howard Portnoy</td>\n",
              "      <td>Print \\nAn Iranian woman has been sentenced to...</td>\n",
              "      <td>1</td>\n",
              "      <td>iranian woman jailed fictional unpublished sto...</td>\n",
              "    </tr>\n",
              "  </tbody>\n",
              "</table>\n",
              "</div>\n",
              "    <div class=\"colab-df-buttons\">\n",
              "\n",
              "  <div class=\"colab-df-container\">\n",
              "    <button class=\"colab-df-convert\" onclick=\"convertToInteractive('df-166a2fa0-a1c0-4b2c-81f0-1562ca8ea6b1')\"\n",
              "            title=\"Convert this dataframe to an interactive table.\"\n",
              "            style=\"display:none;\">\n",
              "\n",
              "  <svg xmlns=\"http://www.w3.org/2000/svg\" height=\"24px\" viewBox=\"0 -960 960 960\">\n",
              "    <path d=\"M120-120v-720h720v720H120Zm60-500h600v-160H180v160Zm220 220h160v-160H400v160Zm0 220h160v-160H400v160ZM180-400h160v-160H180v160Zm440 0h160v-160H620v160ZM180-180h160v-160H180v160Zm440 0h160v-160H620v160Z\"/>\n",
              "  </svg>\n",
              "    </button>\n",
              "\n",
              "  <style>\n",
              "    .colab-df-container {\n",
              "      display:flex;\n",
              "      gap: 12px;\n",
              "    }\n",
              "\n",
              "    .colab-df-convert {\n",
              "      background-color: #E8F0FE;\n",
              "      border: none;\n",
              "      border-radius: 50%;\n",
              "      cursor: pointer;\n",
              "      display: none;\n",
              "      fill: #1967D2;\n",
              "      height: 32px;\n",
              "      padding: 0 0 0 0;\n",
              "      width: 32px;\n",
              "    }\n",
              "\n",
              "    .colab-df-convert:hover {\n",
              "      background-color: #E2EBFA;\n",
              "      box-shadow: 0px 1px 2px rgba(60, 64, 67, 0.3), 0px 1px 3px 1px rgba(60, 64, 67, 0.15);\n",
              "      fill: #174EA6;\n",
              "    }\n",
              "\n",
              "    .colab-df-buttons div {\n",
              "      margin-bottom: 4px;\n",
              "    }\n",
              "\n",
              "    [theme=dark] .colab-df-convert {\n",
              "      background-color: #3B4455;\n",
              "      fill: #D2E3FC;\n",
              "    }\n",
              "\n",
              "    [theme=dark] .colab-df-convert:hover {\n",
              "      background-color: #434B5C;\n",
              "      box-shadow: 0px 1px 3px 1px rgba(0, 0, 0, 0.15);\n",
              "      filter: drop-shadow(0px 1px 2px rgba(0, 0, 0, 0.3));\n",
              "      fill: #FFFFFF;\n",
              "    }\n",
              "  </style>\n",
              "\n",
              "    <script>\n",
              "      const buttonEl =\n",
              "        document.querySelector('#df-166a2fa0-a1c0-4b2c-81f0-1562ca8ea6b1 button.colab-df-convert');\n",
              "      buttonEl.style.display =\n",
              "        google.colab.kernel.accessAllowed ? 'block' : 'none';\n",
              "\n",
              "      async function convertToInteractive(key) {\n",
              "        const element = document.querySelector('#df-166a2fa0-a1c0-4b2c-81f0-1562ca8ea6b1');\n",
              "        const dataTable =\n",
              "          await google.colab.kernel.invokeFunction('convertToInteractive',\n",
              "                                                    [key], {});\n",
              "        if (!dataTable) return;\n",
              "\n",
              "        const docLinkHtml = 'Like what you see? Visit the ' +\n",
              "          '<a target=\"_blank\" href=https://colab.research.google.com/notebooks/data_table.ipynb>data table notebook</a>'\n",
              "          + ' to learn more about interactive tables.';\n",
              "        element.innerHTML = '';\n",
              "        dataTable['output_type'] = 'display_data';\n",
              "        await google.colab.output.renderOutput(dataTable, element);\n",
              "        const docLink = document.createElement('div');\n",
              "        docLink.innerHTML = docLinkHtml;\n",
              "        element.appendChild(docLink);\n",
              "      }\n",
              "    </script>\n",
              "  </div>\n",
              "\n",
              "\n",
              "<div id=\"df-a1fa15d6-4d2c-4b26-b581-c658302703da\">\n",
              "  <button class=\"colab-df-quickchart\" onclick=\"quickchart('df-a1fa15d6-4d2c-4b26-b581-c658302703da')\"\n",
              "            title=\"Suggest charts\"\n",
              "            style=\"display:none;\">\n",
              "\n",
              "<svg xmlns=\"http://www.w3.org/2000/svg\" height=\"24px\"viewBox=\"0 0 24 24\"\n",
              "     width=\"24px\">\n",
              "    <g>\n",
              "        <path d=\"M19 3H5c-1.1 0-2 .9-2 2v14c0 1.1.9 2 2 2h14c1.1 0 2-.9 2-2V5c0-1.1-.9-2-2-2zM9 17H7v-7h2v7zm4 0h-2V7h2v10zm4 0h-2v-4h2v4z\"/>\n",
              "    </g>\n",
              "</svg>\n",
              "  </button>\n",
              "\n",
              "<style>\n",
              "  .colab-df-quickchart {\n",
              "      --bg-color: #E8F0FE;\n",
              "      --fill-color: #1967D2;\n",
              "      --hover-bg-color: #E2EBFA;\n",
              "      --hover-fill-color: #174EA6;\n",
              "      --disabled-fill-color: #AAA;\n",
              "      --disabled-bg-color: #DDD;\n",
              "  }\n",
              "\n",
              "  [theme=dark] .colab-df-quickchart {\n",
              "      --bg-color: #3B4455;\n",
              "      --fill-color: #D2E3FC;\n",
              "      --hover-bg-color: #434B5C;\n",
              "      --hover-fill-color: #FFFFFF;\n",
              "      --disabled-bg-color: #3B4455;\n",
              "      --disabled-fill-color: #666;\n",
              "  }\n",
              "\n",
              "  .colab-df-quickchart {\n",
              "    background-color: var(--bg-color);\n",
              "    border: none;\n",
              "    border-radius: 50%;\n",
              "    cursor: pointer;\n",
              "    display: none;\n",
              "    fill: var(--fill-color);\n",
              "    height: 32px;\n",
              "    padding: 0;\n",
              "    width: 32px;\n",
              "  }\n",
              "\n",
              "  .colab-df-quickchart:hover {\n",
              "    background-color: var(--hover-bg-color);\n",
              "    box-shadow: 0 1px 2px rgba(60, 64, 67, 0.3), 0 1px 3px 1px rgba(60, 64, 67, 0.15);\n",
              "    fill: var(--button-hover-fill-color);\n",
              "  }\n",
              "\n",
              "  .colab-df-quickchart-complete:disabled,\n",
              "  .colab-df-quickchart-complete:disabled:hover {\n",
              "    background-color: var(--disabled-bg-color);\n",
              "    fill: var(--disabled-fill-color);\n",
              "    box-shadow: none;\n",
              "  }\n",
              "\n",
              "  .colab-df-spinner {\n",
              "    border: 2px solid var(--fill-color);\n",
              "    border-color: transparent;\n",
              "    border-bottom-color: var(--fill-color);\n",
              "    animation:\n",
              "      spin 1s steps(1) infinite;\n",
              "  }\n",
              "\n",
              "  @keyframes spin {\n",
              "    0% {\n",
              "      border-color: transparent;\n",
              "      border-bottom-color: var(--fill-color);\n",
              "      border-left-color: var(--fill-color);\n",
              "    }\n",
              "    20% {\n",
              "      border-color: transparent;\n",
              "      border-left-color: var(--fill-color);\n",
              "      border-top-color: var(--fill-color);\n",
              "    }\n",
              "    30% {\n",
              "      border-color: transparent;\n",
              "      border-left-color: var(--fill-color);\n",
              "      border-top-color: var(--fill-color);\n",
              "      border-right-color: var(--fill-color);\n",
              "    }\n",
              "    40% {\n",
              "      border-color: transparent;\n",
              "      border-right-color: var(--fill-color);\n",
              "      border-top-color: var(--fill-color);\n",
              "    }\n",
              "    60% {\n",
              "      border-color: transparent;\n",
              "      border-right-color: var(--fill-color);\n",
              "    }\n",
              "    80% {\n",
              "      border-color: transparent;\n",
              "      border-right-color: var(--fill-color);\n",
              "      border-bottom-color: var(--fill-color);\n",
              "    }\n",
              "    90% {\n",
              "      border-color: transparent;\n",
              "      border-bottom-color: var(--fill-color);\n",
              "    }\n",
              "  }\n",
              "</style>\n",
              "\n",
              "  <script>\n",
              "    async function quickchart(key) {\n",
              "      const quickchartButtonEl =\n",
              "        document.querySelector('#' + key + ' button');\n",
              "      quickchartButtonEl.disabled = true;  // To prevent multiple clicks.\n",
              "      quickchartButtonEl.classList.add('colab-df-spinner');\n",
              "      try {\n",
              "        const charts = await google.colab.kernel.invokeFunction(\n",
              "            'suggestCharts', [key], {});\n",
              "      } catch (error) {\n",
              "        console.error('Error during call to suggestCharts:', error);\n",
              "      }\n",
              "      quickchartButtonEl.classList.remove('colab-df-spinner');\n",
              "      quickchartButtonEl.classList.add('colab-df-quickchart-complete');\n",
              "    }\n",
              "    (() => {\n",
              "      let quickchartButtonEl =\n",
              "        document.querySelector('#df-a1fa15d6-4d2c-4b26-b581-c658302703da button');\n",
              "      quickchartButtonEl.style.display =\n",
              "        google.colab.kernel.accessAllowed ? 'block' : 'none';\n",
              "    })();\n",
              "  </script>\n",
              "</div>\n",
              "    </div>\n",
              "  </div>\n"
            ]
          },
          "metadata": {},
          "execution_count": 41
        }
      ]
    },
    {
      "cell_type": "code",
      "source": [
        "train_df.isnull().sum()"
      ],
      "metadata": {
        "colab": {
          "base_uri": "https://localhost:8080/"
        },
        "id": "43XOxj18C016",
        "outputId": "5f7d76b1-2898-4fa2-8b33-3543f40da471"
      },
      "execution_count": 16,
      "outputs": [
        {
          "output_type": "execute_result",
          "data": {
            "text/plain": [
              "id           0\n",
              "title      558\n",
              "author    1957\n",
              "text        39\n",
              "label        0\n",
              "dtype: int64"
            ]
          },
          "metadata": {},
          "execution_count": 16
        }
      ]
    },
    {
      "cell_type": "code",
      "source": [
        "train_df.dropna(subset=['text'], inplace=True)"
      ],
      "metadata": {
        "id": "xReEdUeQC3sE"
      },
      "execution_count": 17,
      "outputs": []
    },
    {
      "cell_type": "code",
      "source": [
        "# Since NaN + string = NaN, we must fill NaN with empty string first.\n",
        "def get_full_text(df):\n",
        "    df.fillna('', inplace=True)     # fill NaN\n",
        "    df['clean_news'] = df['title'] + ' ' + df['text']\n",
        "    df['clean_news'] = df['clean_news'].str.lower().str.replace('[^A-Za-z0-9\\s]', '')\n",
        "    # no return, change df directly\n",
        "\n",
        "for df in datasets:\n",
        "    get_full_text(df)"
      ],
      "metadata": {
        "colab": {
          "base_uri": "https://localhost:8080/"
        },
        "id": "PSf8OxsgC7Ul",
        "outputId": "27178c1e-a345-412f-9bd8-a30a21138edc"
      },
      "execution_count": 18,
      "outputs": [
        {
          "output_type": "stream",
          "name": "stderr",
          "text": [
            "<ipython-input-18-ce2fd0bd3ef9>:5: FutureWarning: The default value of regex will change from True to False in a future version.\n",
            "  df['clean_news'] = df['clean_news'].str.lower().str.replace('[^A-Za-z0-9\\s]', '')\n",
            "<ipython-input-18-ce2fd0bd3ef9>:5: FutureWarning: The default value of regex will change from True to False in a future version.\n",
            "  df['clean_news'] = df['clean_news'].str.lower().str.replace('[^A-Za-z0-9\\s]', '')\n"
          ]
        }
      ]
    },
    {
      "cell_type": "code",
      "source": [
        "train_df.isnull().sum()"
      ],
      "metadata": {
        "colab": {
          "base_uri": "https://localhost:8080/"
        },
        "id": "RaOTtHb5C_wa",
        "outputId": "b8c91965-1cd6-45b7-a839-94f652f5554a"
      },
      "execution_count": 19,
      "outputs": [
        {
          "output_type": "execute_result",
          "data": {
            "text/plain": [
              "id            0\n",
              "title         0\n",
              "author        0\n",
              "text          0\n",
              "label         0\n",
              "clean_news    0\n",
              "dtype: int64"
            ]
          },
          "metadata": {},
          "execution_count": 19
        }
      ]
    },
    {
      "cell_type": "code",
      "source": [
        "count_empty_strings = len(train_df[train_df['clean_news'] == ' '])\n",
        "print(\"number of empty strings：\", count_empty_strings)"
      ],
      "metadata": {
        "colab": {
          "base_uri": "https://localhost:8080/"
        },
        "id": "28yJWjjMDB0S",
        "outputId": "bc746229-163b-4a59-fa96-dc24b3b3619d"
      },
      "execution_count": 20,
      "outputs": [
        {
          "output_type": "stream",
          "name": "stdout",
          "text": [
            "number of empty strings： 1\n"
          ]
        }
      ]
    },
    {
      "cell_type": "code",
      "source": [
        "import nltk\n",
        "nltk.download('stopwords')"
      ],
      "metadata": {
        "colab": {
          "base_uri": "https://localhost:8080/"
        },
        "id": "UYLFpVsjILi6",
        "outputId": "bb76b871-1483-4caf-866e-49998b659239"
      },
      "execution_count": 26,
      "outputs": [
        {
          "output_type": "stream",
          "name": "stderr",
          "text": [
            "[nltk_data] Downloading package stopwords to /root/nltk_data...\n",
            "[nltk_data]   Unzipping corpora/stopwords.zip.\n"
          ]
        },
        {
          "output_type": "execute_result",
          "data": {
            "text/plain": [
              "True"
            ]
          },
          "metadata": {},
          "execution_count": 26
        }
      ]
    },
    {
      "cell_type": "code",
      "source": [
        "def remove_stopwords(df, stop_words):\n",
        "    df['clean_news'] = df['clean_news'].apply(lambda x:\" \".join([word for word in x.split() if word not in stop_words]))\n",
        "\n",
        "# from nltk.corpus import stopwords\n",
        "stop = stopwords.words('english')\n",
        "for df in datasets:\n",
        "    remove_stopwords(df, stop)"
      ],
      "metadata": {
        "id": "9RtEVyf3DFPn"
      },
      "execution_count": 27,
      "outputs": []
    },
    {
      "cell_type": "code",
      "source": [
        "# Preprocess train/test data in the same time\n",
        "def preprocess_data(train_df, test_df, text_column, max_length):\n",
        "    # merge the text data of the train and test sets\n",
        "#     all_texts = train_df[text_column].tolist() + test_df[text_column].tolist()\n",
        "    all_texts = train_df[text_column].tolist()\n",
        "\n",
        "    # build the Tokenizer\n",
        "    tokenizer = Tokenizer(oov_token='<OOV>')\n",
        "    tokenizer.fit_on_texts(all_texts)\n",
        "\n",
        "    # convert the text data into integer sequences\n",
        "    train_sequences = tokenizer.texts_to_sequences(train_df[text_column])\n",
        "    test_sequences = tokenizer.texts_to_sequences(test_df[text_column])\n",
        "\n",
        "    # perform padding on the sequences, padding to the specified length\n",
        "    train_padded_sequences = pad_sequences(train_sequences, maxlen=max_length, padding='post',truncating='post')\n",
        "    test_padded_sequences = pad_sequences(test_sequences, maxlen=max_length, padding='post',truncating='post')\n",
        "\n",
        "    return train_padded_sequences, test_padded_sequences, tokenizer"
      ],
      "metadata": {
        "id": "ZkxS_rY_DK6q"
      },
      "execution_count": 28,
      "outputs": []
    },
    {
      "cell_type": "code",
      "source": [
        "%%time\n",
        "max_length = 600\n",
        "train_padded_sequences, test_padded_sequences, tokenizer = preprocess_data(train_df, test_df, 'clean_news', max_length)\n",
        "\n",
        "# get word index and vocabulary size\n",
        "word_index = tokenizer.word_index\n",
        "vocab_size = len(word_index) + 1"
      ],
      "metadata": {
        "colab": {
          "base_uri": "https://localhost:8080/"
        },
        "id": "D4DMwPrKDSQ7",
        "outputId": "b2ecf967-c7ec-490e-ef33-b820673c02bb"
      },
      "execution_count": 29,
      "outputs": [
        {
          "output_type": "stream",
          "name": "stdout",
          "text": [
            "CPU times: user 12.4 s, sys: 49.3 ms, total: 12.4 s\n",
            "Wall time: 12.6 s\n"
          ]
        }
      ]
    },
    {
      "cell_type": "code",
      "source": [
        "# get embedding dictionary from glove with dim=100\n",
        "def get_embedding_dict():\n",
        "    embedding_dict = {}\n",
        "    with open('/content/glove.6B.100d.txt', encoding='utf-8') as f:\n",
        "        for line in f:\n",
        "            values = line.split()\n",
        "            word = values[0]\n",
        "            coefs = np.asarray(values[1:], dtype='float32')\n",
        "            embedding_dict[word] = coefs\n",
        "\n",
        "    return embedding_dict\n",
        "\n",
        "embedding_dict = get_embedding_dict()"
      ],
      "metadata": {
        "id": "y47VEVFnD3XX"
      },
      "execution_count": 30,
      "outputs": []
    },
    {
      "cell_type": "code",
      "source": [
        "# get embedding martrix for initializing the embedding layer\n",
        "embedding_dim = 100\n",
        "\n",
        "def get_embedding_matrix(vocab_size, embedding_dim, word_index, embedding_dict):\n",
        "    embedding_matrix = np.zeros((vocab_size, embedding_dim))\n",
        "    for word, i in word_index.items():\n",
        "        embedding_vector = embedding_dict.get(word)\n",
        "        if embedding_vector is not None:\n",
        "            embedding_matrix[i] = embedding_vector\n",
        "\n",
        "    return embedding_matrix\n",
        "\n",
        "embedding_matrix = get_embedding_matrix(vocab_size, embedding_dim, word_index, embedding_dict)"
      ],
      "metadata": {
        "id": "PLJ_uL2qENWk"
      },
      "execution_count": 31,
      "outputs": []
    },
    {
      "cell_type": "code",
      "source": [
        "# split the train dataset\n",
        "X_train, X_val, Y_train, Y_val = train_test_split(train_padded_sequences, train_df['label'], test_size=0.2, random_state=42, stratify=train_df['label'])\n",
        "X_train.shape, Y_train.shape, X_val.shape, Y_val.shape"
      ],
      "metadata": {
        "colab": {
          "base_uri": "https://localhost:8080/"
        },
        "id": "Cnf2DODoEyiC",
        "outputId": "133ceb31-dc47-4895-8df6-eb6c0747b29f"
      },
      "execution_count": 32,
      "outputs": [
        {
          "output_type": "execute_result",
          "data": {
            "text/plain": [
              "((16608, 600), (16608,), (4153, 600), (4153,))"
            ]
          },
          "metadata": {},
          "execution_count": 32
        }
      ]
    },
    {
      "cell_type": "markdown",
      "source": [
        "### MODEL"
      ],
      "metadata": {
        "id": "zuq98e3fJ2_6"
      }
    },
    {
      "cell_type": "code",
      "source": [
        "model_lstm = Sequential([\n",
        "                 Embedding(vocab_size, embedding_dim, weights=[embedding_matrix], trainable=False),\n",
        "                 layers.Dropout(0.2),\n",
        "                 LSTM(32, return_sequences=True),\n",
        "#                  LSTM(32),\n",
        "                 layers.GlobalAveragePooling1D(),\n",
        "                 Dense(128),\n",
        "                 Dense(1, activation='sigmoid')\n",
        "])\n",
        "\n",
        "model_lstm.summary()"
      ],
      "metadata": {
        "colab": {
          "base_uri": "https://localhost:8080/"
        },
        "id": "6iuwR4owE1F5",
        "outputId": "7513a54b-4945-4263-fad3-9a8aa8211c11"
      },
      "execution_count": 33,
      "outputs": [
        {
          "output_type": "stream",
          "name": "stdout",
          "text": [
            "Model: \"sequential\"\n",
            "_________________________________________________________________\n",
            " Layer (type)                Output Shape              Param #   \n",
            "=================================================================\n",
            " embedding (Embedding)       (None, None, 100)         18842700  \n",
            "                                                                 \n",
            " dropout (Dropout)           (None, None, 100)         0         \n",
            "                                                                 \n",
            " lstm (LSTM)                 (None, None, 32)          17024     \n",
            "                                                                 \n",
            " global_average_pooling1d (  (None, 32)                0         \n",
            " GlobalAveragePooling1D)                                         \n",
            "                                                                 \n",
            " dense (Dense)               (None, 128)               4224      \n",
            "                                                                 \n",
            " dense_1 (Dense)             (None, 1)                 129       \n",
            "                                                                 \n",
            "=================================================================\n",
            "Total params: 18864077 (71.96 MB)\n",
            "Trainable params: 21377 (83.50 KB)\n",
            "Non-trainable params: 18842700 (71.88 MB)\n",
            "_________________________________________________________________\n"
          ]
        }
      ]
    },
    {
      "cell_type": "code",
      "source": [
        "model_lstm.compile(loss='binary_crossentropy', optimizer='adam', metrics='accuracy')"
      ],
      "metadata": {
        "id": "9RrYlf-3E3TN"
      },
      "execution_count": 34,
      "outputs": []
    },
    {
      "cell_type": "code",
      "source": [
        "# convert data to tensor for trainning\n",
        "X_train_tf = tf.convert_to_tensor(X_train)\n",
        "Y_train_tf = tf.convert_to_tensor(Y_train)\n",
        "X_val_tf = tf.convert_to_tensor(X_val)\n",
        "Y_val_tf = tf.convert_to_tensor(Y_val)\n",
        "\n",
        "# trainning on GPU\n",
        "with tf.device('/GPU:0'):\n",
        "    history1 = model_lstm.fit(X_train_tf, Y_train_tf, epochs=8, batch_size=100, validation_data=(X_val_tf, Y_val_tf))"
      ],
      "metadata": {
        "colab": {
          "base_uri": "https://localhost:8080/"
        },
        "id": "hXP2IbSEE5DN",
        "outputId": "2098d308-9a06-4ae2-b32b-40d87f55cc31"
      },
      "execution_count": 35,
      "outputs": [
        {
          "output_type": "stream",
          "name": "stdout",
          "text": [
            "Epoch 1/8\n",
            "167/167 [==============================] - 13s 29ms/step - loss: 0.4780 - accuracy: 0.7652 - val_loss: 0.4086 - val_accuracy: 0.8074\n",
            "Epoch 2/8\n",
            "167/167 [==============================] - 4s 22ms/step - loss: 0.3628 - accuracy: 0.8401 - val_loss: 0.4238 - val_accuracy: 0.8045\n",
            "Epoch 3/8\n",
            "167/167 [==============================] - 5s 29ms/step - loss: 0.3304 - accuracy: 0.8536 - val_loss: 0.3088 - val_accuracy: 0.8721\n",
            "Epoch 4/8\n",
            "167/167 [==============================] - 7s 42ms/step - loss: 0.2705 - accuracy: 0.8899 - val_loss: 0.2324 - val_accuracy: 0.9111\n",
            "Epoch 5/8\n",
            "167/167 [==============================] - 4s 22ms/step - loss: 0.2250 - accuracy: 0.9141 - val_loss: 0.2259 - val_accuracy: 0.9080\n",
            "Epoch 6/8\n",
            "167/167 [==============================] - 4s 22ms/step - loss: 0.1908 - accuracy: 0.9297 - val_loss: 0.1853 - val_accuracy: 0.9299\n",
            "Epoch 7/8\n",
            "167/167 [==============================] - 4s 22ms/step - loss: 0.1584 - accuracy: 0.9422 - val_loss: 0.1498 - val_accuracy: 0.9396\n",
            "Epoch 8/8\n",
            "167/167 [==============================] - 4s 27ms/step - loss: 0.1392 - accuracy: 0.9487 - val_loss: 0.1350 - val_accuracy: 0.9526\n"
          ]
        }
      ]
    },
    {
      "cell_type": "markdown",
      "source": [
        "### Trainning Result:"
      ],
      "metadata": {
        "id": "eMksfjX1J6zQ"
      }
    },
    {
      "cell_type": "code",
      "source": [
        "def plot_trainning_result(mode='accuracy'):\n",
        "    epochs_num = len(history1.history[f'{mode}'])\n",
        "    plt.plot(history1.history[f'{mode}'])\n",
        "    plt.plot(history1.history[f'val_{mode}'])\n",
        "    plt.xlabel('epochs')\n",
        "    plt.ylabel(f'{mode}')\n",
        "    plt.legend(['train', 'val'])\n",
        "    plt.title(f'training {mode}')\n",
        "\n",
        "    ax = plt.gca()\n",
        "    ax.xaxis.set_major_locator(ticker.MaxNLocator(integer=True))\n",
        "    ax.yaxis.set_major_locator(ticker.MaxNLocator(integer=True))\n",
        "    plt.xticks(list(range(epochs_num)), list(range(1, epochs_num+1)))\n",
        "\n",
        "    plt.show()\n",
        "\n",
        "plot_trainning_result('accuracy')"
      ],
      "metadata": {
        "colab": {
          "base_uri": "https://localhost:8080/",
          "height": 472
        },
        "id": "_fXz_sZsFhxL",
        "outputId": "87268391-c92b-4758-c90f-e7858baba20f"
      },
      "execution_count": 36,
      "outputs": [
        {
          "output_type": "display_data",
          "data": {
            "text/plain": [
              "<Figure size 640x480 with 1 Axes>"
            ],
            "image/png": "[encoded data removed]"
          },
          "metadata": {}
        }
      ]
    },
    {
      "cell_type": "code",
      "source": [
        "plot_trainning_result('loss')"
      ],
      "metadata": {
        "colab": {
          "base_uri": "https://localhost:8080/",
          "height": 472
        },
        "id": "OHSTkZ3wGfFA",
        "outputId": "fa5a4450-83ed-4185-bed8-0f51fcab6ed7"
      },
      "execution_count": 37,
      "outputs": [
        {
          "output_type": "display_data",
          "data": {
            "text/plain": [
              "<Figure size 640x480 with 1 Axes>"
            ],
            "image/png": "[encoded data removed]"
          },
          "metadata": {}
        }
      ]
    },
    {
      "cell_type": "markdown",
      "source": [
        "### Predicting"
      ],
      "metadata": {
        "id": "s__EF8qaJ-3C"
      }
    },
    {
      "cell_type": "code",
      "source": [
        "test_pred = model_lstm.predict(test_padded_sequences, batch_size=64, verbose=1)"
      ],
      "metadata": {
        "colab": {
          "base_uri": "https://localhost:8080/"
        },
        "id": "4fZDKGteGkrb",
        "outputId": "559c6370-85a5-47f6-b473-d6d8b9450901"
      },
      "execution_count": 38,
      "outputs": [
        {
          "output_type": "stream",
          "name": "stdout",
          "text": [
            "82/82 [==============================] - 1s 8ms/step\n"
          ]
        }
      ]
    },
    {
      "cell_type": "code",
      "source": [
        "test_df = pd.DataFrame({'id': test_df['id'].to_list(), 'label': test_pred.reshape((5200,))})\n",
        "\n",
        "test_df['label'].hist()\n",
        "plt.title('Distribution of Predicted Labels') # due to sigmoid function\n",
        "plt.show()"
      ],
      "metadata": {
        "colab": {
          "base_uri": "https://localhost:8080/",
          "height": 452
        },
        "id": "84WxoXASGqZi",
        "outputId": "ff927e28-6f7b-4115-fe10-0ff6ee74ba47"
      },
      "execution_count": 39,
      "outputs": [
        {
          "output_type": "display_data",
          "data": {
            "text/plain": [
              "<Figure size 640x480 with 1 Axes>"
            ],
            "image/png": "[encoded data removed]"
          },
          "metadata": {}
        }
      ]
    },
    {
      "cell_type": "code",
      "source": [
        "# classifier\n",
        "threshold = 0.5\n",
        "test_df['label'] = np.where(test_df['label'] >= threshold, 1, 0)\n",
        "test_df['label'].value_counts()"
      ],
      "metadata": {
        "colab": {
          "base_uri": "https://localhost:8080/"
        },
        "id": "iSKva8WBGsSQ",
        "outputId": "f7b7e326-ed38-48d3-cc29-624d3e349311"
      },
      "execution_count": 40,
      "outputs": [
        {
          "output_type": "execute_result",
          "data": {
            "text/plain": [
              "1    2650\n",
              "0    2550\n",
              "Name: label, dtype: int64"
            ]
          },
          "metadata": {},
          "execution_count": 40
        }
      ]
    },
    {
      "cell_type": "code",
      "source": [],
      "metadata": {
        "id": "8a7XiaguIq2D"
      },
      "execution_count": null,
      "outputs": []
    }
  ]
}