{
  "nbformat": 4,
  "nbformat_minor": 0,
  "metadata": {
    "colab": {
      "provenance": [],
      "gpuType": "T4",
      "authorship_tag": "ABX9TyOmO4YqjUAaArHMl3UzDQEP",
      "include_colab_link": true
    },
    "kernelspec": {
      "name": "python3",
      "display_name": "Python 3"
    },
    "language_info": {
      "name": "python"
    },
    "accelerator": "GPU"
  },
  "cells": [
    {
      "cell_type": "markdown",
      "metadata": {
        "id": "view-in-github",
        "colab_type": "text"
      },
      "source": [
        "<a href=\"https://colab.research.google.com/github/bchaoss/Fake-News-Detection/blob/main/Fake_News_Detection_with_LSTM_in_Tensorflow.ipynb\" target=\"_parent\"><img src=\"https://colab.research.google.com/assets/colab-badge.svg\" alt=\"Open In Colab\"/></a>"
      ]
    },
    {
      "cell_type": "markdown",
      "source": [
        "## Fake News Detection with LSTM Model in Tensorflow2.x"
      ],
      "metadata": {
        "id": "0qSQQTx4JLHx"
      }
    },
    {
      "cell_type": "markdown",
      "source": [
        "This notebook mainly focuses on building an LSTM model for fake news detection. It is modified from this great work (https://github.com/matdekoning/FakeNewsClassifier). The model utilizes a dataset available on Kaggle, which can be downloaded from this link: https://www.kaggle.com/c/fake-news/data.\n",
        "\n",
        "In this work, we leverages the LSTM model to classify news articles and determine their authenticity. LSTM (Long Short-Term Memory) is a type of recurrent neural network that can capture contextual information in text, aiding in better understanding the content and semantics of news articles. By training on a large dataset of real and fake news, the model learns key features to classify new articles."
      ],
      "metadata": {
        "id": "SnbmYfaFHc8_"
      }
    },
    {
      "cell_type": "markdown",
      "source": [
        "### Install data from kaggle"
      ],
      "metadata": {
        "id": "n5UHnYlsJZA_"
      }
    },
    {
      "cell_type": "code",
      "source": [
        "# connext kaggle before run this cell\n",
        "!kaggle competitions download -c fake-news\n",
        "!kaggle datasets download -d danielwillgeorge/glove6b100dtxt\n",
        "\n",
        "!unzip /content/competitions/fake-news/fake-news.zip\n",
        "!unzip /content/datasets/danielwillgeorge/glove6b100dtxt/glove6b100dtxt.zip"
      ],
      "metadata": {
        "colab": {
          "base_uri": "https://localhost:8080/"
        },
        "id": "rLCvC-BlCEcJ",
        "outputId": "c7a1bbf2-c81a-47e2-997f-2856e243b050"
      },
      "execution_count": 5,
      "outputs": [
        {
          "output_type": "stream",
          "name": "stdout",
          "text": [
            "Downloading fake-news.zip to /content/competitions/fake-news\n",
            " 88% 41.0M/46.5M [00:02<00:00, 28.3MB/s]\n",
            "100% 46.5M/46.5M [00:02<00:00, 21.0MB/s]\n",
            "Downloading glove6b100dtxt.zip to /content/datasets/danielwillgeorge/glove6b100dtxt\n",
            " 94% 124M/131M [00:01<00:00, 122MB/s]\n",
            "100% 131M/131M [00:01<00:00, 114MB/s]\n",
            "Archive:  /content/competitions/fake-news/fake-news.zip\n",
            "  inflating: submit.csv              \n",
            "  inflating: test.csv                \n",
            "  inflating: train.csv               \n",
            "Archive:  /content/datasets/danielwillgeorge/glove6b100dtxt/glove6b100dtxt.zip\n",
            "  inflating: glove.6B.100d.txt       \n"
          ]
        }
      ]
    },
    {
      "cell_type": "code",
      "source": [
        "import numpy as np\n",
        "import pandas as pd\n",
        "import matplotlib.pyplot as plt\n",
        "import matplotlib.ticker as ticker\n",
        "import os\n",
        "\n",
        "import tensorflow as tf\n",
        "from tensorflow.keras import layers\n",
        "from tensorflow.keras.models import Sequential\n",
        "\n",
        "from tensorflow.keras.preprocessing.text import Tokenizer\n",
        "from tensorflow.keras.preprocessing.sequence import pad_sequences\n",
        "\n",
        "from sklearn.model_selection import train_test_split\n",
        "from sklearn.metrics import confusion_matrix, f1_score"
      ],
      "metadata": {
        "id": "nJ6mPPzqBi5O"
      },
      "execution_count": 6,
      "outputs": []
    },
    {
      "cell_type": "markdown",
      "source": [
        "### Prepare the Data"
      ],
      "metadata": {
        "id": "imTTY4TgJun3"
      }
    },
    {
      "cell_type": "code",
      "source": [
        "# choose a availble GPU device\n",
        "physical_devices = tf.config.list_physical_devices('GPU')\n",
        "tf.config.experimental.set_memory_growth(physical_devices[0], True)"
      ],
      "metadata": {
        "id": "X3wrAbytBn37"
      },
      "execution_count": 7,
      "outputs": []
    },
    {
      "cell_type": "code",
      "source": [
        "# read the train/test data\n",
        "train_df = pd.read_csv('/content/train.csv')\n",
        "test_df = pd.read_csv('/content/test.csv')\n",
        "datasets = [train_df, test_df]"
      ],
      "metadata": {
        "id": "QbzsfCIQBqB-"
      },
      "execution_count": 8,
      "outputs": []
    },
    {
      "cell_type": "code",
      "source": [
        "train_df.head()"
      ],
      "metadata": {
        "colab": {
          "base_uri": "https://localhost:8080/",
          "height": 206
        },
        "id": "Gcm0mOi7C0NI",
        "outputId": "cdb488f1-5697-49c7-f919-6801c8e66c21"
      },
      "execution_count": 9,
      "outputs": [
        {
          "output_type": "execute_result",
          "data": {
            "text/plain": [
              "   id                                              title              author  \\\n",
              "0   0  House Dem Aide: We Didn’t Even See Comey’s Let...       Darrell Lucus   \n",
              "1   1  FLYNN: Hillary Clinton, Big Woman on Campus - ...     Daniel J. Flynn   \n",
              "2   2                  Why the Truth Might Get You Fired  Consortiumnews.com   \n",
              "3   3  15 Civilians Killed In Single US Airstrike Hav...     Jessica Purkiss   \n",
              "4   4  Iranian woman jailed for fictional unpublished...      Howard Portnoy   \n",
              "\n",
              "                                                text  label  \n",
              "0  House Dem Aide: We Didn’t Even See Comey’s Let...      1  \n",
              "1  Ever get the feeling your life circles the rou...      0  \n",
              "2  Why the Truth Might Get You Fired October 29, ...      1  \n",
              "3  Videos 15 Civilians Killed In Single US Airstr...      1  \n",
              "4  Print \\nAn Iranian woman has been sentenced to...      1  "
            ],
            "text/html": [
              "\n",
              "  <div id=\"df-4c7b92d9-9c3f-4b11-9bec-15e50bdfe141\" class=\"colab-df-container\">\n",
              "    <div>\n",
              "<style scoped>\n",
              "    .dataframe tbody tr th:only-of-type {\n",
              "        vertical-align: middle;\n",
              "    }\n",
              "\n",
              "    .dataframe tbody tr th {\n",
              "        vertical-align: top;\n",
              "    }\n",
              "\n",
              "    .dataframe thead th {\n",
              "        text-align: right;\n",
              "    }\n",
              "</style>\n",
              "<table border=\"1\" class=\"dataframe\">\n",
              "  <thead>\n",
              "    <tr style=\"text-align: right;\">\n",
              "      <th></th>\n",
              "      <th>id</th>\n",
              "      <th>title</th>\n",
              "      <th>author</th>\n",
              "      <th>text</th>\n",
              "      <th>label</th>\n",
              "    </tr>\n",
              "  </thead>\n",
              "  <tbody>\n",
              "    <tr>\n",
              "      <th>0</th>\n",
              "      <td>0</td>\n",
              "      <td>House Dem Aide: We Didn’t Even See Comey’s Let...</td>\n",
              "      <td>Darrell Lucus</td>\n",
              "      <td>House Dem Aide: We Didn’t Even See Comey’s Let...</td>\n",
              "      <td>1</td>\n",
              "    </tr>\n",
              "    <tr>\n",
              "      <th>1</th>\n",
              "      <td>1</td>\n",
              "      <td>FLYNN: Hillary Clinton, Big Woman on Campus - ...</td>\n",
              "      <td>Daniel J. Flynn</td>\n",
              "      <td>Ever get the feeling your life circles the rou...</td>\n",
              "      <td>0</td>\n",
              "    </tr>\n",
              "    <tr>\n",
              "      <th>2</th>\n",
              "      <td>2</td>\n",
              "      <td>Why the Truth Might Get You Fired</td>\n",
              "      <td>Consortiumnews.com</td>\n",
              "      <td>Why the Truth Might Get You Fired October 29, ...</td>\n",
              "      <td>1</td>\n",
              "    </tr>\n",
              "    <tr>\n",
              "      <th>3</th>\n",
              "      <td>3</td>\n",
              "      <td>15 Civilians Killed In Single US Airstrike Hav...</td>\n",
              "      <td>Jessica Purkiss</td>\n",
              "      <td>Videos 15 Civilians Killed In Single US Airstr...</td>\n",
              "      <td>1</td>\n",
              "    </tr>\n",
              "    <tr>\n",
              "      <th>4</th>\n",
              "      <td>4</td>\n",
              "      <td>Iranian woman jailed for fictional unpublished...</td>\n",
              "      <td>Howard Portnoy</td>\n",
              "      <td>Print \\nAn Iranian woman has been sentenced to...</td>\n",
              "      <td>1</td>\n",
              "    </tr>\n",
              "  </tbody>\n",
              "</table>\n",
              "</div>\n",
              "    <div class=\"colab-df-buttons\">\n",
              "\n",
              "  <div class=\"colab-df-container\">\n",
              "    <button class=\"colab-df-convert\" onclick=\"convertToInteractive('df-4c7b92d9-9c3f-4b11-9bec-15e50bdfe141')\"\n",
              "            title=\"Convert this dataframe to an interactive table.\"\n",
              "            style=\"display:none;\">\n",
              "\n",
              "  <svg xmlns=\"http://www.w3.org/2000/svg\" height=\"24px\" viewBox=\"0 -960 960 960\">\n",
              "    <path d=\"M120-120v-720h720v720H120Zm60-500h600v-160H180v160Zm220 220h160v-160H400v160Zm0 220h160v-160H400v160ZM180-400h160v-160H180v160Zm440 0h160v-160H620v160ZM180-180h160v-160H180v160Zm440 0h160v-160H620v160Z\"/>\n",
              "  </svg>\n",
              "    </button>\n",
              "\n",
              "  <style>\n",
              "    .colab-df-container {\n",
              "      display:flex;\n",
              "      gap: 12px;\n",
              "    }\n",
              "\n",
              "    .colab-df-convert {\n",
              "      background-color: #E8F0FE;\n",
              "      border: none;\n",
              "      border-radius: 50%;\n",
              "      cursor: pointer;\n",
              "      display: none;\n",
              "      fill: #1967D2;\n",
              "      height: 32px;\n",
              "      padding: 0 0 0 0;\n",
              "      width: 32px;\n",
              "    }\n",
              "\n",
              "    .colab-df-convert:hover {\n",
              "      background-color: #E2EBFA;\n",
              "      box-shadow: 0px 1px 2px rgba(60, 64, 67, 0.3), 0px 1px 3px 1px rgba(60, 64, 67, 0.15);\n",
              "      fill: #174EA6;\n",
              "    }\n",
              "\n",
              "    .colab-df-buttons div {\n",
              "      margin-bottom: 4px;\n",
              "    }\n",
              "\n",
              "    [theme=dark] .colab-df-convert {\n",
              "      background-color: #3B4455;\n",
              "      fill: #D2E3FC;\n",
              "    }\n",
              "\n",
              "    [theme=dark] .colab-df-convert:hover {\n",
              "      background-color: #434B5C;\n",
              "      box-shadow: 0px 1px 3px 1px rgba(0, 0, 0, 0.15);\n",
              "      filter: drop-shadow(0px 1px 2px rgba(0, 0, 0, 0.3));\n",
              "      fill: #FFFFFF;\n",
              "    }\n",
              "  </style>\n",
              "\n",
              "    <script>\n",
              "      const buttonEl =\n",
              "        document.querySelector('#df-4c7b92d9-9c3f-4b11-9bec-15e50bdfe141 button.colab-df-convert');\n",
              "      buttonEl.style.display =\n",
              "        google.colab.kernel.accessAllowed ? 'block' : 'none';\n",
              "\n",
              "      async function convertToInteractive(key) {\n",
              "        const element = document.querySelector('#df-4c7b92d9-9c3f-4b11-9bec-15e50bdfe141');\n",
              "        const dataTable =\n",
              "          await google.colab.kernel.invokeFunction('convertToInteractive',\n",
              "                                                    [key], {});\n",
              "        if (!dataTable) return;\n",
              "\n",
              "        const docLinkHtml = 'Like what you see? Visit the ' +\n",
              "          '<a target=\"_blank\" href=https://colab.research.google.com/notebooks/data_table.ipynb>data table notebook</a>'\n",
              "          + ' to learn more about interactive tables.';\n",
              "        element.innerHTML = '';\n",
              "        dataTable['output_type'] = 'display_data';\n",
              "        await google.colab.output.renderOutput(dataTable, element);\n",
              "        const docLink = document.createElement('div');\n",
              "        docLink.innerHTML = docLinkHtml;\n",
              "        element.appendChild(docLink);\n",
              "      }\n",
              "    </script>\n",
              "  </div>\n",
              "\n",
              "\n",
              "<div id=\"df-4be7bed2-e9c8-4057-a159-85f3e07b8610\">\n",
              "  <button class=\"colab-df-quickchart\" onclick=\"quickchart('df-4be7bed2-e9c8-4057-a159-85f3e07b8610')\"\n",
              "            title=\"Suggest charts\"\n",
              "            style=\"display:none;\">\n",
              "\n",
              "<svg xmlns=\"http://www.w3.org/2000/svg\" height=\"24px\"viewBox=\"0 0 24 24\"\n",
              "     width=\"24px\">\n",
              "    <g>\n",
              "        <path d=\"M19 3H5c-1.1 0-2 .9-2 2v14c0 1.1.9 2 2 2h14c1.1 0 2-.9 2-2V5c0-1.1-.9-2-2-2zM9 17H7v-7h2v7zm4 0h-2V7h2v10zm4 0h-2v-4h2v4z\"/>\n",
              "    </g>\n",
              "</svg>\n",
              "  </button>\n",
              "\n",
              "<style>\n",
              "  .colab-df-quickchart {\n",
              "      --bg-color: #E8F0FE;\n",
              "      --fill-color: #1967D2;\n",
              "      --hover-bg-color: #E2EBFA;\n",
              "      --hover-fill-color: #174EA6;\n",
              "      --disabled-fill-color: #AAA;\n",
              "      --disabled-bg-color: #DDD;\n",
              "  }\n",
              "\n",
              "  [theme=dark] .colab-df-quickchart {\n",
              "      --bg-color: #3B4455;\n",
              "      --fill-color: #D2E3FC;\n",
              "      --hover-bg-color: #434B5C;\n",
              "      --hover-fill-color: #FFFFFF;\n",
              "      --disabled-bg-color: #3B4455;\n",
              "      --disabled-fill-color: #666;\n",
              "  }\n",
              "\n",
              "  .colab-df-quickchart {\n",
              "    background-color: var(--bg-color);\n",
              "    border: none;\n",
              "    border-radius: 50%;\n",
              "    cursor: pointer;\n",
              "    display: none;\n",
              "    fill: var(--fill-color);\n",
              "    height: 32px;\n",
              "    padding: 0;\n",
              "    width: 32px;\n",
              "  }\n",
              "\n",
              "  .colab-df-quickchart:hover {\n",
              "    background-color: var(--hover-bg-color);\n",
              "    box-shadow: 0 1px 2px rgba(60, 64, 67, 0.3), 0 1px 3px 1px rgba(60, 64, 67, 0.15);\n",
              "    fill: var(--button-hover-fill-color);\n",
              "  }\n",
              "\n",
              "  .colab-df-quickchart-complete:disabled,\n",
              "  .colab-df-quickchart-complete:disabled:hover {\n",
              "    background-color: var(--disabled-bg-color);\n",
              "    fill: var(--disabled-fill-color);\n",
              "    box-shadow: none;\n",
              "  }\n",
              "\n",
              "  .colab-df-spinner {\n",
              "    border: 2px solid var(--fill-color);\n",
              "    border-color: transparent;\n",
              "    border-bottom-color: var(--fill-color);\n",
              "    animation:\n",
              "      spin 1s steps(1) infinite;\n",
              "  }\n",
              "\n",
              "  @keyframes spin {\n",
              "    0% {\n",
              "      border-color: transparent;\n",
              "      border-bottom-color: var(--fill-color);\n",
              "      border-left-color: var(--fill-color);\n",
              "    }\n",
              "    20% {\n",
              "      border-color: transparent;\n",
              "      border-left-color: var(--fill-color);\n",
              "      border-top-color: var(--fill-color);\n",
              "    }\n",
              "    30% {\n",
              "      border-color: transparent;\n",
              "      border-left-color: var(--fill-color);\n",
              "      border-top-color: var(--fill-color);\n",
              "      border-right-color: var(--fill-color);\n",
              "    }\n",
              "    40% {\n",
              "      border-color: transparent;\n",
              "      border-right-color: var(--fill-color);\n",
              "      border-top-color: var(--fill-color);\n",
              "    }\n",
              "    60% {\n",
              "      border-color: transparent;\n",
              "      border-right-color: var(--fill-color);\n",
              "    }\n",
              "    80% {\n",
              "      border-color: transparent;\n",
              "      border-right-color: var(--fill-color);\n",
              "      border-bottom-color: var(--fill-color);\n",
              "    }\n",
              "    90% {\n",
              "      border-color: transparent;\n",
              "      border-bottom-color: var(--fill-color);\n",
              "    }\n",
              "  }\n",
              "</style>\n",
              "\n",
              "  <script>\n",
              "    async function quickchart(key) {\n",
              "      const quickchartButtonEl =\n",
              "        document.querySelector('#' + key + ' button');\n",
              "      quickchartButtonEl.disabled = true;  // To prevent multiple clicks.\n",
              "      quickchartButtonEl.classList.add('colab-df-spinner');\n",
              "      try {\n",
              "        const charts = await google.colab.kernel.invokeFunction(\n",
              "            'suggestCharts', [key], {});\n",
              "      } catch (error) {\n",
              "        console.error('Error during call to suggestCharts:', error);\n",
              "      }\n",
              "      quickchartButtonEl.classList.remove('colab-df-spinner');\n",
              "      quickchartButtonEl.classList.add('colab-df-quickchart-complete');\n",
              "    }\n",
              "    (() => {\n",
              "      let quickchartButtonEl =\n",
              "        document.querySelector('#df-4be7bed2-e9c8-4057-a159-85f3e07b8610 button');\n",
              "      quickchartButtonEl.style.display =\n",
              "        google.colab.kernel.accessAllowed ? 'block' : 'none';\n",
              "    })();\n",
              "  </script>\n",
              "</div>\n",
              "    </div>\n",
              "  </div>\n"
            ]
          },
          "metadata": {},
          "execution_count": 9
        }
      ]
    },
    {
      "cell_type": "code",
      "source": [
        "train_df.isnull().sum()"
      ],
      "metadata": {
        "colab": {
          "base_uri": "https://localhost:8080/"
        },
        "id": "43XOxj18C016",
        "outputId": "72ddbb87-a284-4bfd-ce46-4065b09511e6"
      },
      "execution_count": 10,
      "outputs": [
        {
          "output_type": "execute_result",
          "data": {
            "text/plain": [
              "id           0\n",
              "title      558\n",
              "author    1957\n",
              "text        39\n",
              "label        0\n",
              "dtype: int64"
            ]
          },
          "metadata": {},
          "execution_count": 10
        }
      ]
    },
    {
      "cell_type": "code",
      "source": [
        "train_df.dropna(subset=['text'], inplace=True)"
      ],
      "metadata": {
        "id": "xReEdUeQC3sE"
      },
      "execution_count": 11,
      "outputs": []
    },
    {
      "cell_type": "code",
      "source": [
        "# Since NaN + string = NaN, we must fill NaN with empty string first.\n",
        "def get_full_text(df):\n",
        "    df.fillna('', inplace=True)     # fill NaN\n",
        "    df['clean_news'] = df['title'] + ' ' + df['text']\n",
        "    df['clean_news'] = df['clean_news'].str.lower().str.replace('[^A-Za-z0-9\\s]', '')\n",
        "    # no return, change df directly\n",
        "\n",
        "for df in datasets:\n",
        "    get_full_text(df)"
      ],
      "metadata": {
        "colab": {
          "base_uri": "https://localhost:8080/"
        },
        "id": "PSf8OxsgC7Ul",
        "outputId": "b1da8305-898a-459b-c271-75c8fdf8eca7"
      },
      "execution_count": 12,
      "outputs": [
        {
          "output_type": "stream",
          "name": "stderr",
          "text": [
            "<ipython-input-12-ce2fd0bd3ef9>:5: FutureWarning: The default value of regex will change from True to False in a future version.\n",
            "  df['clean_news'] = df['clean_news'].str.lower().str.replace('[^A-Za-z0-9\\s]', '')\n",
            "<ipython-input-12-ce2fd0bd3ef9>:5: FutureWarning: The default value of regex will change from True to False in a future version.\n",
            "  df['clean_news'] = df['clean_news'].str.lower().str.replace('[^A-Za-z0-9\\s]', '')\n"
          ]
        }
      ]
    },
    {
      "cell_type": "code",
      "source": [
        "train_df.isnull().sum()"
      ],
      "metadata": {
        "colab": {
          "base_uri": "https://localhost:8080/"
        },
        "id": "RaOTtHb5C_wa",
        "outputId": "21fa8062-2fcf-4535-ac0a-704ac13d84d0"
      },
      "execution_count": 13,
      "outputs": [
        {
          "output_type": "execute_result",
          "data": {
            "text/plain": [
              "id            0\n",
              "title         0\n",
              "author        0\n",
              "text          0\n",
              "label         0\n",
              "clean_news    0\n",
              "dtype: int64"
            ]
          },
          "metadata": {},
          "execution_count": 13
        }
      ]
    },
    {
      "cell_type": "code",
      "source": [
        "count_empty_strings = len(train_df[train_df['clean_news'] == ' '])\n",
        "print(\"number of empty strings：\", count_empty_strings)"
      ],
      "metadata": {
        "colab": {
          "base_uri": "https://localhost:8080/"
        },
        "id": "28yJWjjMDB0S",
        "outputId": "6ba875bc-bee5-46d9-b977-385e2775b3cd"
      },
      "execution_count": 14,
      "outputs": [
        {
          "output_type": "stream",
          "name": "stdout",
          "text": [
            "number of empty strings： 1\n"
          ]
        }
      ]
    },
    {
      "cell_type": "code",
      "source": [
        "import nltk\n",
        "nltk.download('stopwords')"
      ],
      "metadata": {
        "colab": {
          "base_uri": "https://localhost:8080/"
        },
        "id": "UYLFpVsjILi6",
        "outputId": "c220bf0b-a0d2-4e98-9780-54649d6a7dda"
      },
      "execution_count": 15,
      "outputs": [
        {
          "output_type": "stream",
          "name": "stderr",
          "text": [
            "[nltk_data] Downloading package stopwords to /root/nltk_data...\n",
            "[nltk_data]   Unzipping corpora/stopwords.zip.\n"
          ]
        },
        {
          "output_type": "execute_result",
          "data": {
            "text/plain": [
              "True"
            ]
          },
          "metadata": {},
          "execution_count": 15
        }
      ]
    },
    {
      "cell_type": "code",
      "source": [
        "def remove_stopwords(df, stop_words):\n",
        "    df['clean_news'] = df['clean_news'].apply(lambda x:\" \".join([word for word in x.split() if word not in stop_words]))\n",
        "\n",
        "from nltk.corpus import stopwords\n",
        "stop = stopwords.words('english')\n",
        "for df in datasets:\n",
        "    remove_stopwords(df, stop)"
      ],
      "metadata": {
        "id": "9RtEVyf3DFPn"
      },
      "execution_count": 17,
      "outputs": []
    },
    {
      "cell_type": "code",
      "source": [
        "# Preprocess train/test data in the same time\n",
        "def preprocess_data(train_df, test_df, text_column, max_length):\n",
        "    # merge the text data of the train and test sets\n",
        "#     all_texts = train_df[text_column].tolist() + test_df[text_column].tolist()\n",
        "    all_texts = train_df[text_column].tolist()\n",
        "\n",
        "    # build the Tokenizer\n",
        "    tokenizer = Tokenizer(oov_token='<OOV>')\n",
        "    tokenizer.fit_on_texts(all_texts)\n",
        "\n",
        "    # convert the text data into integer sequences\n",
        "    train_sequences = tokenizer.texts_to_sequences(train_df[text_column])\n",
        "    test_sequences = tokenizer.texts_to_sequences(test_df[text_column])\n",
        "\n",
        "    # perform padding on the sequences, padding to the specified length\n",
        "    train_padded_sequences = pad_sequences(train_sequences, maxlen=max_length, padding='post',truncating='post')\n",
        "    test_padded_sequences = pad_sequences(test_sequences, maxlen=max_length, padding='post',truncating='post')\n",
        "\n",
        "    return train_padded_sequences, test_padded_sequences, tokenizer"
      ],
      "metadata": {
        "id": "ZkxS_rY_DK6q"
      },
      "execution_count": 18,
      "outputs": []
    },
    {
      "cell_type": "code",
      "source": [
        "%%time\n",
        "max_length = 600\n",
        "train_padded_sequences, test_padded_sequences, tokenizer = preprocess_data(train_df, test_df, 'clean_news', max_length)\n",
        "\n",
        "# get word index and vocabulary size\n",
        "word_index = tokenizer.word_index\n",
        "vocab_size = len(word_index) + 1"
      ],
      "metadata": {
        "colab": {
          "base_uri": "https://localhost:8080/"
        },
        "id": "D4DMwPrKDSQ7",
        "outputId": "7752dfc2-67ff-403b-b38c-9cd471756d63"
      },
      "execution_count": 19,
      "outputs": [
        {
          "output_type": "stream",
          "name": "stdout",
          "text": [
            "CPU times: user 11.5 s, sys: 80.4 ms, total: 11.6 s\n",
            "Wall time: 11.6 s\n"
          ]
        }
      ]
    },
    {
      "cell_type": "code",
      "source": [
        "# get embedding dictionary from glove with dim=100\n",
        "def get_embedding_dict():\n",
        "    embedding_dict = {}\n",
        "    with open('/content/glove.6B.100d.txt', encoding='utf-8') as f:\n",
        "        for line in f:\n",
        "            values = line.split()\n",
        "            word = values[0]\n",
        "            coefs = np.asarray(values[1:], dtype='float32')\n",
        "            embedding_dict[word] = coefs\n",
        "\n",
        "    return embedding_dict\n",
        "\n",
        "embedding_dict = get_embedding_dict()"
      ],
      "metadata": {
        "id": "y47VEVFnD3XX"
      },
      "execution_count": 20,
      "outputs": []
    },
    {
      "cell_type": "code",
      "source": [
        "# get embedding martrix for initializing the embedding layer\n",
        "embedding_dim = 100\n",
        "\n",
        "def get_embedding_matrix(vocab_size, embedding_dim, word_index, embedding_dict):\n",
        "    embedding_matrix = np.zeros((vocab_size, embedding_dim))\n",
        "    for word, i in word_index.items():\n",
        "        embedding_vector = embedding_dict.get(word)\n",
        "        if embedding_vector is not None:\n",
        "            embedding_matrix[i] = embedding_vector\n",
        "\n",
        "    return embedding_matrix\n",
        "\n",
        "embedding_matrix = get_embedding_matrix(vocab_size, embedding_dim, word_index, embedding_dict)"
      ],
      "metadata": {
        "id": "PLJ_uL2qENWk"
      },
      "execution_count": 21,
      "outputs": []
    },
    {
      "cell_type": "code",
      "source": [
        "# split the train dataset\n",
        "X_train, X_val, Y_train, Y_val = train_test_split(train_padded_sequences, train_df['label'], test_size=0.2, random_state=42, stratify=train_df['label'])\n",
        "X_train.shape, Y_train.shape, X_val.shape, Y_val.shape"
      ],
      "metadata": {
        "colab": {
          "base_uri": "https://localhost:8080/"
        },
        "id": "Cnf2DODoEyiC",
        "outputId": "aaa34f0f-9141-4798-9695-ae7224b4b583"
      },
      "execution_count": 22,
      "outputs": [
        {
          "output_type": "execute_result",
          "data": {
            "text/plain": [
              "((16608, 600), (16608,), (4153, 600), (4153,))"
            ]
          },
          "metadata": {},
          "execution_count": 22
        }
      ]
    },
    {
      "cell_type": "markdown",
      "source": [
        "### MODEL"
      ],
      "metadata": {
        "id": "zuq98e3fJ2_6"
      }
    },
    {
      "cell_type": "code",
      "source": [
        "model_lstm = Sequential([\n",
        "                layers.Embedding(vocab_size, embedding_dim, weights=[embedding_matrix], trainable=False),\n",
        "                layers.Dropout(0.2),\n",
        "                layers.Conv1D(64, 5, activation='relu'),\n",
        "                layers.MaxPooling1D(pool_size=4),\n",
        "                layers.LSTM(32, return_sequences=True),\n",
        "                layers.LSTM(32),\n",
        "                # layers.GlobalAveragePooling1D(),\n",
        "                layers.Dense(128),\n",
        "                layers.Dense(1, activation='sigmoid')\n",
        "])\n",
        "\n",
        "model_lstm.summary()"
      ],
      "metadata": {
        "colab": {
          "base_uri": "https://localhost:8080/"
        },
        "id": "6iuwR4owE1F5",
        "outputId": "35b7fd55-493e-4228-b0e8-4bb378862abe"
      },
      "execution_count": 24,
      "outputs": [
        {
          "output_type": "stream",
          "name": "stdout",
          "text": [
            "Model: \"sequential_1\"\n",
            "_________________________________________________________________\n",
            " Layer (type)                Output Shape              Param #   \n",
            "=================================================================\n",
            " embedding_1 (Embedding)     (None, None, 100)         18842700  \n",
            "                                                                 \n",
            " dropout_1 (Dropout)         (None, None, 100)         0         \n",
            "                                                                 \n",
            " conv1d_1 (Conv1D)           (None, None, 64)          32064     \n",
            "                                                                 \n",
            " max_pooling1d_1 (MaxPoolin  (None, None, 64)          0         \n",
            " g1D)                                                            \n",
            "                                                                 \n",
            " lstm_2 (LSTM)               (None, None, 32)          12416     \n",
            "                                                                 \n",
            " lstm_3 (LSTM)               (None, 32)                8320      \n",
            "                                                                 \n",
            " dense_2 (Dense)             (None, 128)               4224      \n",
            "                                                                 \n",
            " dense_3 (Dense)             (None, 1)                 129       \n",
            "                                                                 \n",
            "=================================================================\n",
            "Total params: 18899853 (72.10 MB)\n",
            "Trainable params: 57153 (223.25 KB)\n",
            "Non-trainable params: 18842700 (71.88 MB)\n",
            "_________________________________________________________________\n"
          ]
        }
      ]
    },
    {
      "cell_type": "code",
      "source": [
        "model_lstm.compile(loss='binary_crossentropy', optimizer='adam', metrics='accuracy')"
      ],
      "metadata": {
        "id": "9RrYlf-3E3TN"
      },
      "execution_count": 25,
      "outputs": []
    },
    {
      "cell_type": "code",
      "source": [
        "# convert data to tensor for trainning\n",
        "X_train_tf = tf.convert_to_tensor(X_train)\n",
        "Y_train_tf = tf.convert_to_tensor(Y_train)\n",
        "X_val_tf = tf.convert_to_tensor(X_val)\n",
        "Y_val_tf = tf.convert_to_tensor(Y_val)\n",
        "\n",
        "# trainning on GPU\n",
        "with tf.device('/GPU:0'):\n",
        "    history1 = model_lstm.fit(X_train_tf, Y_train_tf, epochs=8, batch_size=100, validation_data=(X_val_tf, Y_val_tf))"
      ],
      "metadata": {
        "colab": {
          "base_uri": "https://localhost:8080/"
        },
        "id": "hXP2IbSEE5DN",
        "outputId": "845f1467-9e3f-4cb6-8042-7f4dcbb91839"
      },
      "execution_count": 26,
      "outputs": [
        {
          "output_type": "stream",
          "name": "stdout",
          "text": [
            "Epoch 1/8\n",
            "167/167 [==============================] - 19s 25ms/step - loss: 0.5281 - accuracy: 0.7410 - val_loss: 0.3763 - val_accuracy: 0.8375\n",
            "Epoch 2/8\n",
            "167/167 [==============================] - 3s 17ms/step - loss: 0.3031 - accuracy: 0.8754 - val_loss: 0.2383 - val_accuracy: 0.9085\n",
            "Epoch 3/8\n",
            "167/167 [==============================] - 3s 17ms/step - loss: 0.2042 - accuracy: 0.9225 - val_loss: 0.1912 - val_accuracy: 0.9294\n",
            "Epoch 4/8\n",
            "167/167 [==============================] - 3s 17ms/step - loss: 0.1256 - accuracy: 0.9555 - val_loss: 0.1121 - val_accuracy: 0.9624\n",
            "Epoch 5/8\n",
            "167/167 [==============================] - 3s 20ms/step - loss: 0.0836 - accuracy: 0.9721 - val_loss: 0.0884 - val_accuracy: 0.9656\n",
            "Epoch 6/8\n",
            "167/167 [==============================] - 3s 17ms/step - loss: 0.0639 - accuracy: 0.9790 - val_loss: 0.1159 - val_accuracy: 0.9653\n",
            "Epoch 7/8\n",
            "167/167 [==============================] - 3s 17ms/step - loss: 0.0565 - accuracy: 0.9819 - val_loss: 0.0969 - val_accuracy: 0.9757\n",
            "Epoch 8/8\n",
            "167/167 [==============================] - 3s 17ms/step - loss: 0.0523 - accuracy: 0.9836 - val_loss: 0.0882 - val_accuracy: 0.9723\n"
          ]
        }
      ]
    },
    {
      "cell_type": "markdown",
      "source": [
        "### Trainning Result:"
      ],
      "metadata": {
        "id": "eMksfjX1J6zQ"
      }
    },
    {
      "cell_type": "code",
      "source": [
        "def plot_trainning_result(mode='accuracy'):\n",
        "    epochs_num = len(history1.history[f'{mode}'])\n",
        "    plt.plot(history1.history[f'{mode}'])\n",
        "    plt.plot(history1.history[f'val_{mode}'])\n",
        "    plt.xlabel('epochs')\n",
        "    plt.ylabel(f'{mode}')\n",
        "    plt.legend(['train', 'val'])\n",
        "    plt.title(f'training {mode}')\n",
        "\n",
        "    ax = plt.gca()\n",
        "    ax.xaxis.set_major_locator(ticker.MaxNLocator(integer=True))\n",
        "    ax.yaxis.set_major_locator(ticker.MaxNLocator(integer=True))\n",
        "    plt.xticks(list(range(epochs_num)), list(range(1, epochs_num+1)))\n",
        "\n",
        "    plt.show()\n",
        "\n",
        "plot_trainning_result('accuracy')"
      ],
      "metadata": {
        "colab": {
          "base_uri": "https://localhost:8080/",
          "height": 472
        },
        "id": "_fXz_sZsFhxL",
        "outputId": "cca53bb0-8901-4b80-b85c-d12958fb4b21"
      },
      "execution_count": 27,
      "outputs": [
        {
          "output_type": "display_data",
          "data": {
            "text/plain": [
              "<Figure size 640x480 with 1 Axes>"
            ],
            "image/png": "[encoded data removed]"
          },
          "metadata": {}
        }
      ]
    },
    {
      "cell_type": "code",
      "source": [
        "plot_trainning_result('loss')"
      ],
      "metadata": {
        "colab": {
          "base_uri": "https://localhost:8080/",
          "height": 472
        },
        "id": "OHSTkZ3wGfFA",
        "outputId": "74f576d2-870b-4450-8800-edce190cfa3e"
      },
      "execution_count": 28,
      "outputs": [
        {
          "output_type": "display_data",
          "data": {
            "text/plain": [
              "<Figure size 640x480 with 1 Axes>"
            ],
            "image/png": "[encoded data removed]"
          },
          "metadata": {}
        }
      ]
    },
    {
      "cell_type": "markdown",
      "source": [
        "### Predicting"
      ],
      "metadata": {
        "id": "s__EF8qaJ-3C"
      }
    },
    {
      "cell_type": "code",
      "source": [
        "test_pred = model_lstm.predict(test_padded_sequences, batch_size=64, verbose=1)"
      ],
      "metadata": {
        "colab": {
          "base_uri": "https://localhost:8080/"
        },
        "id": "4fZDKGteGkrb",
        "outputId": "faf8f9b6-cd77-44ce-c83b-77cbb1def27f"
      },
      "execution_count": 29,
      "outputs": [
        {
          "output_type": "stream",
          "name": "stdout",
          "text": [
            "82/82 [==============================] - 1s 8ms/step\n"
          ]
        }
      ]
    },
    {
      "cell_type": "code",
      "source": [
        "test_df = pd.DataFrame({'id': test_df['id'].to_list(), 'label': test_pred.reshape((5200,))})\n",
        "\n",
        "test_df['label'].hist()\n",
        "plt.title('Distribution of Predicted Labels') # due to sigmoid function\n",
        "plt.show()"
      ],
      "metadata": {
        "colab": {
          "base_uri": "https://localhost:8080/",
          "height": 452
        },
        "id": "84WxoXASGqZi",
        "outputId": "4f47d2aa-1928-4a84-912a-47014e6a4733"
      },
      "execution_count": 30,
      "outputs": [
        {
          "output_type": "display_data",
          "data": {
            "text/plain": [
              "<Figure size 640x480 with 1 Axes>"
            ],
            "image/png": "[encoded data removed]"
          },
          "metadata": {}
        }
      ]
    },
    {
      "cell_type": "code",
      "source": [
        "# classifier\n",
        "threshold = 0.5\n",
        "test_df['label'] = np.where(test_df['label'] >= threshold, 1, 0)\n",
        "test_df['label'].value_counts()"
      ],
      "metadata": {
        "colab": {
          "base_uri": "https://localhost:8080/"
        },
        "id": "iSKva8WBGsSQ",
        "outputId": "a557156f-d059-45c5-f38c-d04059ba8c7a"
      },
      "execution_count": 31,
      "outputs": [
        {
          "output_type": "execute_result",
          "data": {
            "text/plain": [
              "0    2665\n",
              "1    2535\n",
              "Name: label, dtype: int64"
            ]
          },
          "metadata": {},
          "execution_count": 31
        }
      ]
    },
    {
      "cell_type": "markdown",
      "source": [
        "## Evaluation"
      ],
      "metadata": {
        "id": "Acll_9Gv113y"
      }
    },
    {
      "cell_type": "code",
      "source": [
        "predictions = model_lstm.predict(train_padded_sequences, batch_size=64, verbose=1)\n",
        "\n",
        "pred_df = pd.DataFrame({'label': predictions.reshape((len(predictions),))})\n",
        "\n",
        "threshold = 0.5\n",
        "pred_df['label'] = np.where(pred_df['label'] >= threshold, 1, 0)\n",
        "pred_df['label'].value_counts()"
      ],
      "metadata": {
        "id": "Ipi2KDSo2bHo",
        "outputId": "1fd1f937-7966-404f-d6e8-24732ab1643c",
        "colab": {
          "base_uri": "https://localhost:8080/"
        }
      },
      "execution_count": 60,
      "outputs": [
        {
          "output_type": "stream",
          "name": "stdout",
          "text": [
            "325/325 [==============================] - 2s 7ms/step\n"
          ]
        },
        {
          "output_type": "execute_result",
          "data": {
            "text/plain": [
              "0    10485\n",
              "1    10276\n",
              "Name: label, dtype: int64"
            ]
          },
          "metadata": {},
          "execution_count": 60
        }
      ]
    },
    {
      "cell_type": "code",
      "source": [
        "true_labels = train_df['label']\n",
        "\n",
        "cm = confusion_matrix(true_labels, pred_df['label'])\n",
        "print(\"Confusion Matrix:\")\n",
        "print(cm)"
      ],
      "metadata": {
        "id": "JlNyd7ct13Fw",
        "outputId": "7334289a-d462-42dc-8735-fd4f175ea82b",
        "colab": {
          "base_uri": "https://localhost:8080/"
        }
      },
      "execution_count": 61,
      "outputs": [
        {
          "output_type": "stream",
          "name": "stdout",
          "text": [
            "Confusion Matrix:\n",
            "[[10312    75]\n",
            " [  173 10201]]\n"
          ]
        }
      ]
    },
    {
      "cell_type": "code",
      "source": [
        "f1 = f1_score(true_labels, pred_df['label'])\n",
        "print(\"F1 Score:\", f1)"
      ],
      "metadata": {
        "id": "AiwtNl3C2G1k",
        "outputId": "5df6cd9a-ed61-4fd5-ac88-b01514ace285",
        "colab": {
          "base_uri": "https://localhost:8080/"
        }
      },
      "execution_count": 62,
      "outputs": [
        {
          "output_type": "stream",
          "name": "stdout",
          "text": [
            "F1 Score: 0.9879903147699757\n"
          ]
        }
      ]
    }
  ]
}